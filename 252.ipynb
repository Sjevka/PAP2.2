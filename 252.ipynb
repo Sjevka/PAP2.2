{
 "cells": [
  {
   "cell_type": "code",
   "execution_count": 1,
   "metadata": {},
   "outputs": [
    {
     "name": "stdout",
     "output_type": "stream",
     "text": [
      "Mittelwert: 15.153846153846153 Fehler: 0.9811027394435562\n",
      "\n",
      "\n",
      "A1 = 233.53876260419935 , Standardfehler = 18.475793305724807\n",
      "l1 = 0.03145132655932665 , Standardfehler = 0.004271569332528803\n",
      "A2 = 52.317501425611994 , Standardfehler = 9.42879647288569\n",
      "l2 = 0.0025467620982775083 , Standardfehler = 0.0006731407344075488\n",
      "\n",
      "\n",
      "Chi-Quadrat = 43.9970552499636\n",
      "Freiheitsgrade = 37\n",
      "Chi-Quadrat reduziert = 1.1891096013503677\n",
      "Wahrscheinlichkeit ein größeres oder gleiches Chi-Quadrat zu erhalten = 20.0 %\n"
     ]
    },
    {
     "data": {
      "image/png": "[encoded data removed]",
      "text/plain": [
       "<Figure size 432x288 with 1 Axes>"
      ]
     },
     "metadata": {
      "needs_background": "light"
     },
     "output_type": "display_data"
    }
   ],
   "source": [
    "%matplotlib inline\n",
    "import matplotlib.pyplot as plt\n",
    "import numpy as np\n",
    "\n",
    "#Messdaten laden\n",
    "unterg =np.loadtxt('data/V252/252_1.dat', usecols=[1])\n",
    "\n",
    "mittelw_unterg=np.mean(4*unterg)\n",
    "fehler_unterg=np.std(4*unterg)/np.sqrt(len(unterg))\n",
    "\n",
    "n1 = np.loadtxt('data/V252/252_2a.dat', usecols=[1])\n",
    "n2 = np.loadtxt('data/V252/252_2b.dat', usecols=[1])\n",
    "n3 = np.loadtxt('data/V252/252_2c.dat', usecols=[1])\n",
    "n4 = np.loadtxt('data/V252/252_2d.dat', usecols=[1])\n",
    "N = n1+n2+n3[0:-2]+n4\n",
    "fehler_N = np.sqrt(N)\n",
    "\n",
    "t = np.arange(5,415,10)\n",
    "\n",
    "y0=mittelw_unterg #Untergrund\n",
    "def fit_func(x, A1,l1,A2,l2):\n",
    "    return A1*np.exp(-x*l1) + A2*np.exp(-x*l2) + y0\n",
    "\n",
    "from scipy.optimize import curve_fit\n",
    "\n",
    "popt, pcov=curve_fit(fit_func,t,N, p0=[500,0.02,50,0.001],\n",
    "sigma=fehler_N)\n",
    "\n",
    "chi2_=np.sum((fit_func(t,*popt)-N)**2/fehler_N**2)\n",
    "dof=len(N)-4 #dof:degrees of freedom, Freiheitsgrad\n",
    "chi2_red=chi2_/dof\n",
    "\n",
    "from scipy.stats import chi2\n",
    "\n",
    "prob=round(1-chi2.cdf(chi2_,dof),2)*100\n",
    "      \n",
    "#Plot\n",
    "plt.errorbar(t,N,fehler_N, lw=1, ecolor='k', fmt='.k', capsize=1,label='Messung')\n",
    "plt.xlabel('Zeit '+r'${t}$'+' '+r'${[s]}$')\n",
    "plt.ylabel('Zerfälle N')\n",
    "plt.title('Zerfall von Silber mit Untergrund')\n",
    "plt.yscale('log')\n",
    "plt.ylim((1e1,1e3))\n",
    "plt.plot(t, fit_func(t,*popt), 'r', lw=1, label='Fit')\n",
    "\n",
    "#Output\n",
    "plt.savefig('figures/252_Diagramm1.pdf', format='pdf')\n",
    "\n",
    "print('Mittelwert:', mittelw_unterg, 'Fehler:',fehler_unterg)\n",
    "print('\\n')\n",
    "print('A1 =',popt[0], ', Standardfehler =', np.sqrt(pcov[0][0]))\n",
    "print('l1 =',popt[1], ', Standardfehler =', np.sqrt(pcov[1][1]))\n",
    "print('A2 =',popt[2], ', Standardfehler =', np.sqrt(pcov[2][2]))\n",
    "print('l2 =',popt[3], ', Standardfehler =', np.sqrt(pcov[3][3]))\n",
    "print('\\n')\n",
    "print('Chi-Quadrat =', chi2_)\n",
    "print('Freiheitsgrade =', dof)\n",
    "print('Chi-Quadrat reduziert =',chi2_red)\n",
    "print('Wahrscheinlichkeit ein größeres oder gleiches Chi-Quadrat zu erhalten =', prob, '%')"
   ]
  },
  {
   "cell_type": "code",
   "execution_count": 2,
   "metadata": {},
   "outputs": [
    {
     "name": "stdout",
     "output_type": "stream",
     "text": [
      "Mittelwert: 45.46153846153846 Fehler: 2.9433082183306687\n",
      "\n",
      "\n",
      "A = 731.2548789636279 , Standardfehler = 10.542398662327537\n",
      "l = 0.0002021452539000327 , Standardfehler = 8.75623691627335e-06\n",
      "\n",
      "\n",
      "Chi-Quadrat = 18.99523288419279\n",
      "Freiheitsgrade = 24\n",
      "Chi-Quadrat reduziert = 0.7914680368413664\n",
      "Wahrscheinlichkeit ein größeres oder gleiches Chi-Quadrat zu erhalten = 75.0 %\n"
     ]
    },
    {
     "data": {
      "image/png": "[encoded data removed]",
      "text/plain": [
       "<Figure size 432x288 with 1 Axes>"
      ]
     },
     "metadata": {
      "needs_background": "light"
     },
     "output_type": "display_data"
    }
   ],
   "source": [
    "%matplotlib inline\n",
    "import matplotlib.pyplot as plt\n",
    "import numpy as np\n",
    "\n",
    "#Messdaten laden\n",
    "unterg =np.loadtxt('data/V252/252_1.dat', usecols=[1])\n",
    "\n",
    "mittelw_unterg=np.mean(12*unterg)\n",
    "fehler_unterg=np.std(12*unterg)/np.sqrt(len(unterg))\n",
    "\n",
    "N = np.loadtxt('data/V252/252_3.dat', usecols=[1])\n",
    "fehler_N = np.sqrt(N)\n",
    "\n",
    "t = np.arange(60,3180,120)\n",
    "\n",
    "y0=mittelw_unterg #Untergrund\n",
    "def fit_func(x, A,l):\n",
    "    return A*np.exp(-x*l) + y0\n",
    "\n",
    "from scipy.optimize import curve_fit\n",
    "\n",
    "popt, pcov=curve_fit(fit_func,t,N, p0=[500,0.02],\n",
    "sigma=fehler_N)\n",
    "\n",
    "chi2_=np.sum((fit_func(t,*popt)-N)**2/fehler_N**2)\n",
    "dof=len(N)-2 #dof:degrees of freedom, Freiheitsgrad\n",
    "chi2_red=chi2_/dof\n",
    "\n",
    "from scipy.stats import chi2\n",
    "\n",
    "prob=round(1-chi2.cdf(chi2_,dof),2)*100\n",
    "      \n",
    "#Plot\n",
    "plt.errorbar(t,N,fehler_N, lw=1, ecolor='k', fmt='.k', capsize=1,label='Messung')\n",
    "plt.xlabel('Zeit '+r'${t}$'+' '+r'${[s]}$')\n",
    "plt.ylabel('Zerfälle N')\n",
    "plt.title('Zerfall von Indium mit Untergrund')\n",
    "plt.yscale('log')\n",
    "plt.plot(t, fit_func(t,*popt), 'r', lw=1, label='Fit')\n",
    "\n",
    "#Output\n",
    "plt.savefig('figures/252_Diagramm2.pdf', format='pdf')\n",
    "\n",
    "print('Mittelwert:', mittelw_unterg, 'Fehler:',fehler_unterg)\n",
    "print('\\n')\n",
    "print('A =',popt[0], ', Standardfehler =', np.sqrt(pcov[0][0]))\n",
    "print('l =',popt[1], ', Standardfehler =', np.sqrt(pcov[1][1]))\n",
    "print('\\n')\n",
    "print('Chi-Quadrat =', chi2_)\n",
    "print('Freiheitsgrade =', dof)\n",
    "print('Chi-Quadrat reduziert =',chi2_red)\n",
    "print('Wahrscheinlichkeit ein größeres oder gleiches Chi-Quadrat zu erhalten =', prob, '%')"
   ]
  }
 ],
 "metadata": {
  "kernelspec": {
   "display_name": "Python 3",
   "language": "python",
   "name": "python3"
  },
  "language_info": {
   "codemirror_mode": {
    "name": "ipython",
    "version": 3
   },
   "file_extension": ".py",
   "mimetype": "text/x-python",
   "name": "python",
   "nbconvert_exporter": "python",
   "pygments_lexer": "ipython3",
   "version": "3.7.0"
  }
 },
 "nbformat": 4,
 "nbformat_minor": 2
}
